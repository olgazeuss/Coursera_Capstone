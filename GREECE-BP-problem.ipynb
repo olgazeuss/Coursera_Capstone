{
    "nbformat_minor": 1, 
    "cells": [
        {
            "execution_count": null, 
            "cell_type": "code", 
            "metadata": {}, 
            "outputs": [], 
            "source": ""
        }, 
        {
            "source": "# Facebook Personal Travel", 
            "cell_type": "markdown", 
            "metadata": {}
        }, 
        {
            "source": "### ### In this notebook I will review the idea of creating an app based ob foursquare which deliver travelling recommendations which are connected geographically via Foursqure based on your facebook profile (according to your interests and posts). You enter a central geographical datapoint into the system, it delivers recommendations within 1 km of distance relevant to your profile - kids, restaurants, museums, checkins, what user's friends like etc\n\nThis application will be interesting for all the travellers who would like to explore more personal travelling which is becoming very trendy at the moment. It's like lonely planet but more focused on personal approach and is located directly in your smartphone and interactive allowing to simultaneously post updates and likes/dislikes on facebook so the system will update user's preferences\n\nThe project Notebook will be used to analyze the areas around a central, focal point, as they would appear in a rectangular grid of roughly 5 X 5 points with almost 1 km distances between them. In longitude and latitude terms, 1 km is roughly 1 minute of a degree both to the North - South and to the East - West direction.\nThe center can be determined by the user, by setting the \"Central_Address\" variable to an address which should be initially recognized by the Google geocode API. The API call should return the original coordinates. Following this, a dataframe with the 25 neighborhoods, all around this central point are fetched.\n\nThe objective of this exercise is to cluster these 25 neighborhoods and provide suggestions about how much the patterns and the profile of the city changes when someone moves away from their original point of interest. This POI might be the hotel they are going to stay in, a new home, their business address or anything else that they need to analyze from a \"what is near\" viewpoint.\n\n", 
            "cell_type": "markdown", 
            "metadata": {
                "collapsed": true
            }
        }, 
        {
            "source": "#### The project Notebook will be used to analyze the areas around a central, focal point, as they would appear in a rectangular grid of roughly 5 X 5 points with almost 1 km distances between them. In longitude and latitude terms, 1 km is roughly 1 minute of a degree both to the North - South and to the East - West direction.\n\nThe center can be determined by the user, by setting the \"Central_Address\" variable to an address which should be initially recognized by the Google geocode API. The API call should return the original coordinates. Following this, a dataframe with the 25 neighborhoods, all around this central point are fetched.\n\nThe objective of this exercise is to cluster these 25 neighborhoods and provide suggestions about how much the patterns and the profile of the city changes when someone moves away from their original point of interest. This POI might be the hotel they are going to stay in, a new home, their business address or anything else that they need to analyze from a \"what is near\" viewpoint.\n\n", 
            "cell_type": "markdown", 
            "metadata": {}
        }, 
        {
            "execution_count": null, 
            "cell_type": "code", 
            "metadata": {}, 
            "outputs": [], 
            "source": ""
        }
    ], 
    "metadata": {
        "kernelspec": {
            "display_name": "Python 3.6", 
            "name": "python3", 
            "language": "python"
        }, 
        "language_info": {
            "mimetype": "text/x-python", 
            "nbconvert_exporter": "python", 
            "version": "3.6.8", 
            "name": "python", 
            "file_extension": ".py", 
            "pygments_lexer": "ipython3", 
            "codemirror_mode": {
                "version": 3, 
                "name": "ipython"
            }
        }
    }, 
    "nbformat": 4
}